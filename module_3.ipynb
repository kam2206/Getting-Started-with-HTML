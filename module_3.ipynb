{
  "nbformat": 4,
  "nbformat_minor": 0,
  "metadata": {
    "colab": {
      "provenance": []
    },
    "kernelspec": {
      "name": "python3",
      "display_name": "Python 3"
    },
    "language_info": {
      "name": "python"
    }
  },
  "cells": [
    {
      "cell_type": "markdown",
      "source": [
        "1. Write a simple program in HTML that displays the heading 'HTML defines the content and structure of your website' on the web browser.\n",
        "\n",
        "          <html>\n",
        "          <body>\n",
        "              <h1> HTML defines the content and structure of your webpage </h1>\n",
        "          </body>\n",
        "          </html>\n"
      ],
      "metadata": {
        "id": "GRzqYHxuA8-u"
      }
    },
    {
      "cell_type": "markdown",
      "source": [
        "2. Explain the purpose of comments in HTML and provide an example of how to use comments in an HTML document?\n",
        "  - HTML comments are used to add notes or explanations in the HTML code that are not displayed by the browser.\n",
        "  - They are useful for documenting the code, making it easier to understand and maintain the code.\n",
        "  - To add a comment in HTML, you can use the <!-- comment text --> syntax.\n",
        "   These comments can include reminders, warnings or explanations about the code which can be useful for other developers.\n",
        "          <html>\n",
        "          <body>\n",
        "              <!-- This is a heading tag -->\n",
        "              <h1>HTML document</h1>\n",
        "          </body>\n",
        "          </html>"
      ],
      "metadata": {
        "id": "M4ByeF6MB7sc"
      }
    },
    {
      "cell_type": "markdown",
      "source": [
        "3. Write an HTML program that includes a heading, a paragraph of text, a horizontal line and a line break.\n",
        "    Arrange these elements to create a simple layout of a webpage?\n",
        "          <html>\n",
        "          <body>\n",
        "              <h1> Self-Description </h1>\n",
        "              <hr>\n",
        "\n",
        "              <p>\n",
        "                My name is Kamlesh Jha. I have completed B.Tech(ME) in 2017 from MDU Rohtak.\n",
        "                <br>\n",
        "                I have cracked GATE ME 4 times consequtively from 2019 to 2022.\n",
        "              </p>\n",
        "          </body>\n",
        "          </html>"
      ],
      "metadata": {
        "id": "l9Z0c8g7CZ7z"
      }
    },
    {
      "cell_type": "markdown",
      "source": [],
      "metadata": {
        "id": "haxH_8_FA4Je"
      }
    },
    {
      "cell_type": "markdown",
      "source": [
        "4. Write a short note on Tag and Element with an example?\n",
        "- HTML Tags - it indicates the start and end of html elements.\n",
        "  - it help web browsers convert html documents into web pages.\n",
        "  - Ex. - html, head, title, body tags etc.\n",
        "\n",
        "- HTML Elements - components of html documents that tell web browsers how to structure and interpret content.\n",
        "  - can contain formatting instructions, semantic meaning, and content.\n",
        "  - can be nested inside other elements to create a hierarchical structure.\n",
        "  - Ex.\n",
        "    - block-level elements : contains p tag, h1 to h6 tags, div, header and footer tags etc.\n",
        "    - inline elements : contains a, span, img, input tags etc.\n",
        "  \n",
        "            <p> This is a paragraph </p>\n",
        "  - HTML Elements encompass the tags and content.\n",
        "\n"
      ],
      "metadata": {
        "id": "ZyZ3pcpm3T7T"
      }
    },
    {
      "cell_type": "markdown",
      "source": [
        "5. What is the DOCTYPE Declaration in HTML?\n",
        "  - A \"DOCTYPE declaration\" in HTML is a line of code at the beginning of an HTML document that tells the browser which version of HTML the document is written in, essentially instructing the browser how to interpret and render the page according to the specified standard; it's usually written as <!DOCTYPE html> for modern HTML5 documents and is considered essential for consistent rendering across different browsers.\n",
        "  - Key points about the DOCTYPE declaration:\n",
        "    - Function: It signals to the browser which HTML standard the document adheres to, preventing inconsistencies in rendering across different browsers.\n",
        "    - Syntax: <!DOCTYPE html>\n",
        "    - Importance: While not technically an HTML tag, it plays a critical role in ensuring proper rendering by triggering \"standards mode\" in browsers."
      ],
      "metadata": {
        "id": "Pbnt9XAT6LG8"
      }
    }
  ]
}